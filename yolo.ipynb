{
 "cells": [
  {
   "cell_type": "markdown",
   "metadata": {},
   "source": [
    "### yolov3 github地址: https://github.com/ultralytics/yolov3"
   ]
  },
  {
   "cell_type": "markdown",
   "metadata": {
    "id": "9sLmk7rWzoLO"
   },
   "source": [
    "装载谷歌云端硬盘，数据集存放在谷歌云盘，另外数据集还需要进行处理，数据集处理代码可见于getSize.py,makeText.py,voc_label.py，其中getSize主要是用于获取图片的size的，因为我发现许多没有任何object存在的xml标注文件就连size都不给出了"
   ]
  },
  {
   "cell_type": "code",
   "execution_count": null,
   "metadata": {
    "colab": {
     "base_uri": "https://localhost:8080/"
    },
    "executionInfo": {
     "elapsed": 1102,
     "status": "ok",
     "timestamp": 1605949249322,
     "user": {
      "displayName": "呜啦啦啦",
      "photoUrl": "",
      "userId": "11210684122337786716"
     },
     "user_tz": -480
    },
    "id": "1iBYe3jGCAQZ",
    "outputId": "ba8dc010-48dc-463b-ebab-132e88756a9f"
   },
   "outputs": [
    {
     "name": "stdout",
     "output_type": "stream",
     "text": [
      "Drive already mounted at /content/drive; to attempt to forcibly remount, call drive.mount(\"/content/drive\", force_remount=True).\n"
     ]
    }
   ],
   "source": [
    "from google.colab import drive\n",
    "drive.mount('/content/drive')"
   ]
  },
  {
   "cell_type": "markdown",
   "metadata": {
    "id": "K5eknZEnz2hi"
   },
   "source": [
    "切换文件夹"
   ]
  },
  {
   "cell_type": "code",
   "execution_count": null,
   "metadata": {
    "id": "UEC40UxA8tsc"
   },
   "outputs": [],
   "source": [
    "import os\n",
    "path = r'/content/drive/MyDrive'\n",
    "os.chdir(path)"
   ]
  },
  {
   "cell_type": "code",
   "execution_count": null,
   "metadata": {
    "id": "LPajoVPXCYpR"
   },
   "outputs": [],
   "source": [
    "!ls\n",
    "!nvidia-smi"
   ]
  },
  {
   "cell_type": "code",
   "execution_count": null,
   "metadata": {
    "id": "TylgD9KZCkBF"
   },
   "outputs": [],
   "source": [
    "!unzip yolov3-master.zip"
   ]
  },
  {
   "cell_type": "code",
   "execution_count": null,
   "metadata": {
    "id": "ldFE1NL0CxdW"
   },
   "outputs": [],
   "source": [
    "path = r'/content/drive/MyDrive/yolov3-archive'\n",
    "os.chdir(path)"
   ]
  },
  {
   "cell_type": "code",
   "execution_count": null,
   "metadata": {
    "colab": {
     "base_uri": "https://localhost:8080/"
    },
    "executionInfo": {
     "elapsed": 1245,
     "status": "ok",
     "timestamp": 1605950034876,
     "user": {
      "displayName": "呜啦啦啦",
      "photoUrl": "",
      "userId": "11210684122337786716"
     },
     "user_tz": -480
    },
    "id": "7cM-iEX3C1WS",
    "outputId": "280b51c2-e629-4447-f33b-33f5769394ad"
   },
   "outputs": [
    {
     "name": "stdout",
     "output_type": "stream",
     "text": [
      "cfg\t    getSize.py\t__pycache__\t  runs\t\t  utils\n",
      "data\t    LICENSE\tpython\t\t  test.py\t  voc_label.py\n",
      "detect.py   makeTxt.py\tREADME.md\t  train.py\t  weights\n",
      "Dockerfile  models.py\trequirements.txt  tutorial.ipynb  yolov3-tiny.pt\n"
     ]
    }
   ],
   "source": [
    "!ls"
   ]
  },
  {
   "cell_type": "code",
   "execution_count": null,
   "metadata": {
    "id": "OVP6qJOEC3Gy"
   },
   "outputs": [],
   "source": [
    "!pip install -r requirements.txt"
   ]
  },
  {
   "cell_type": "markdown",
   "metadata": {
    "id": "63ykFdBkz9l7"
   },
   "source": [
    "训练数据集，数据集是处理完后上传云端的"
   ]
  },
  {
   "cell_type": "code",
   "execution_count": null,
   "metadata": {
    "colab": {
     "base_uri": "https://localhost:8080/"
    },
    "executionInfo": {
     "elapsed": 6411433,
     "status": "ok",
     "timestamp": 1605958666104,
     "user": {
      "displayName": "呜啦啦啦",
      "photoUrl": "",
      "userId": "11210684122337786716"
     },
     "user_tz": -480
    },
    "id": "TA9C3O1zNdEc",
    "outputId": "242c314e-1388-4b71-b70a-71dff93e01f9"
   },
   "outputs": [
    {
     "name": "stdout",
     "output_type": "stream",
     "text": [
      "Apex recommended for faster mixed precision training: https://github.com/NVIDIA/apex\n",
      "Namespace(adam=False, batch_size=16, bucket='', cache_images=False, cfg='cfg/yolov3-tiny.cfg', data='data/rbc.data', device='', epochs=20, evolve=False, freeze_layers=False, img_size=[320, 640], multi_scale=False, name='', nosave=False, notest=False, rect=False, resume=False, single_cls=False, weights='weights/yolov3-tiny.pt')\n",
      "Using CUDA device0 _CudaDeviceProperties(name='Tesla T4', total_memory=15079MB)\n",
      "\n",
      "Start Tensorboard with \"tensorboard --logdir=runs\", view at http://localhost:6006/\n",
      "2020-11-21 09:51:01.294149: I tensorflow/stream_executor/platform/default/dso_loader.cc:48] Successfully opened dynamic library libcudart.so.10.1\n",
      "Model Summary: 37 layers, 8.67219e+06 parameters, 8.67219e+06 gradients\n",
      "Optimizer groups: 13 .bias, 13 Conv2d.weight, 11 other\n",
      "Caching labels data/labels.npy (5714 found, 0 missing, 17 empty, 0 duplicate, for 5731 images): 100% 5731/5731 [00:00<00:00, 19083.27it/s]\n",
      "Caching labels data/labels.npy (570 found, 0 missing, 2 empty, 0 duplicate, for 572 images): 100% 572/572 [00:00<00:00, 1118.21it/s]\n",
      "Image sizes 320 - 640 train, 640 test\n",
      "Using 2 dataloader workers\n",
      "Starting training for 20 epochs...\n",
      "\n",
      "     Epoch   gpu_mem      GIoU       obj       cls     total   targets  img_size\n",
      "  0% 0/359 [00:00<?, ?it/s]/usr/local/lib/python3.6/dist-packages/torch/cuda/memory.py:346: FutureWarning: torch.cuda.memory_cached has been renamed to torch.cuda.memory_reserved\n",
      "  FutureWarning)\n",
      "      0/19     4.23G      3.64      1.93     0.948      6.51         9       384: 100% 359/359 [05:07<00:00,  1.17it/s]\n",
      "               Class    Images   Targets         P         R   mAP@0.5        F1:   0% 0/36 [00:00<?, ?it/s]/content/drive/MyDrive/yolov3-archive/test.py:148: UserWarning: This overload of nonzero is deprecated:\n",
      "\tnonzero()\n",
      "Consider using one of the following signatures instead:\n",
      "\tnonzero(*, bool as_tuple) (Triggered internally at  /pytorch/torch/csrc/utils/python_arg_parser.cpp:882.)\n",
      "  ti = (cls == tcls_tensor).nonzero().view(-1)  # target indices\n",
      "               Class    Images   Targets         P         R   mAP@0.5        F1: 100% 36/36 [00:17<00:00,  2.10it/s]\n",
      "                 all       572  1.16e+03     0.297     0.434     0.271     0.352\n",
      "\n",
      "     Epoch   gpu_mem      GIoU       obj       cls     total   targets  img_size\n",
      "      1/19     4.23G      2.79      1.09     0.547      4.43         5       320: 100% 359/359 [05:07<00:00,  1.17it/s]\n",
      "               Class    Images   Targets         P         R   mAP@0.5        F1: 100% 36/36 [00:11<00:00,  3.15it/s]\n",
      "                 all       572  1.16e+03     0.494     0.623      0.59     0.547\n",
      "\n",
      "     Epoch   gpu_mem      GIoU       obj       cls     total   targets  img_size\n",
      "      2/19     4.23G      2.48     0.826     0.403      3.71        44       352: 100% 359/359 [05:06<00:00,  1.17it/s]\n",
      "               Class    Images   Targets         P         R   mAP@0.5        F1: 100% 36/36 [00:11<00:00,  3.21it/s]\n",
      "                 all       572  1.16e+03     0.601     0.666     0.647     0.632\n",
      "\n",
      "     Epoch   gpu_mem      GIoU       obj       cls     total   targets  img_size\n",
      "      3/19     4.23G      2.27      0.73     0.343      3.34         6       640: 100% 359/359 [05:14<00:00,  1.14it/s]\n",
      "               Class    Images   Targets         P         R   mAP@0.5        F1: 100% 36/36 [00:11<00:00,  3.25it/s]\n",
      "                 all       572  1.16e+03     0.615     0.738     0.727     0.667\n",
      "\n",
      "     Epoch   gpu_mem      GIoU       obj       cls     total   targets  img_size\n",
      "      4/19     4.23G      2.11     0.758     0.322      3.19        11       480: 100% 359/359 [05:04<00:00,  1.18it/s]\n",
      "               Class    Images   Targets         P         R   mAP@0.5        F1: 100% 36/36 [00:11<00:00,  3.26it/s]\n",
      "                 all       572  1.16e+03     0.649      0.74     0.742     0.692\n",
      "\n",
      "     Epoch   gpu_mem      GIoU       obj       cls     total   targets  img_size\n",
      "      5/19     4.23G      2.05     0.698      0.29      3.04         8       448: 100% 359/359 [05:03<00:00,  1.18it/s]\n",
      "               Class    Images   Targets         P         R   mAP@0.5        F1: 100% 36/36 [00:11<00:00,  3.25it/s]\n",
      "                 all       572  1.16e+03      0.73     0.744     0.769     0.737\n",
      "\n",
      "     Epoch   gpu_mem      GIoU       obj       cls     total   targets  img_size\n",
      "      6/19     4.23G      1.98     0.665     0.261       2.9        10       544: 100% 359/359 [05:04<00:00,  1.18it/s]\n",
      "               Class    Images   Targets         P         R   mAP@0.5        F1: 100% 36/36 [00:10<00:00,  3.28it/s]\n",
      "                 all       572  1.16e+03     0.711     0.779     0.787     0.743\n",
      "\n",
      "     Epoch   gpu_mem      GIoU       obj       cls     total   targets  img_size\n",
      "      7/19     4.24G      1.95     0.664     0.247      2.86         6       352: 100% 359/359 [05:03<00:00,  1.18it/s]\n",
      "               Class    Images   Targets         P         R   mAP@0.5        F1: 100% 36/36 [00:11<00:00,  3.24it/s]\n",
      "                 all       572  1.16e+03     0.742     0.762     0.792     0.747\n",
      "\n",
      "     Epoch   gpu_mem      GIoU       obj       cls     total   targets  img_size\n",
      "      8/19     4.24G      1.89     0.671     0.241       2.8        11       352: 100% 359/359 [05:04<00:00,  1.18it/s]\n",
      "               Class    Images   Targets         P         R   mAP@0.5        F1: 100% 36/36 [00:11<00:00,  3.24it/s]\n",
      "                 all       572  1.16e+03     0.711     0.792     0.798     0.749\n",
      "\n",
      "     Epoch   gpu_mem      GIoU       obj       cls     total   targets  img_size\n",
      "      9/19     4.23G      1.86     0.641     0.231      2.73         7       576: 100% 359/359 [05:04<00:00,  1.18it/s]\n",
      "               Class    Images   Targets         P         R   mAP@0.5        F1: 100% 36/36 [00:11<00:00,  3.23it/s]\n",
      "                 all       572  1.16e+03     0.702     0.789     0.783     0.742\n",
      "\n",
      "     Epoch   gpu_mem      GIoU       obj       cls     total   targets  img_size\n",
      "     10/19     4.23G      1.84     0.655     0.233      2.72         6       480: 100% 359/359 [05:06<00:00,  1.17it/s]\n",
      "               Class    Images   Targets         P         R   mAP@0.5        F1: 100% 36/36 [00:11<00:00,  3.22it/s]\n",
      "                 all       572  1.16e+03      0.72     0.802     0.805     0.759\n",
      "\n",
      "     Epoch   gpu_mem      GIoU       obj       cls     total   targets  img_size\n",
      "     11/19     4.23G      1.83     0.638     0.232       2.7        13       320: 100% 359/359 [05:06<00:00,  1.17it/s]\n",
      "               Class    Images   Targets         P         R   mAP@0.5        F1: 100% 36/36 [00:11<00:00,  3.22it/s]\n",
      "                 all       572  1.16e+03     0.716     0.783     0.796     0.747\n",
      "\n",
      "     Epoch   gpu_mem      GIoU       obj       cls     total   targets  img_size\n",
      "     12/19     4.23G      1.75     0.611     0.204      2.57         7       416: 100% 359/359 [05:09<00:00,  1.16it/s]\n",
      "               Class    Images   Targets         P         R   mAP@0.5        F1: 100% 36/36 [00:11<00:00,  3.16it/s]\n",
      "                 all       572  1.16e+03     0.716     0.793     0.807     0.751\n",
      "\n",
      "     Epoch   gpu_mem      GIoU       obj       cls     total   targets  img_size\n",
      "     13/19     4.24G      1.74     0.615     0.205      2.56         5       352: 100% 359/359 [05:10<00:00,  1.16it/s]\n",
      "               Class    Images   Targets         P         R   mAP@0.5        F1: 100% 36/36 [00:11<00:00,  3.21it/s]\n",
      "                 all       572  1.16e+03     0.699     0.815     0.813     0.752\n",
      "\n",
      "     Epoch   gpu_mem      GIoU       obj       cls     total   targets  img_size\n",
      "     14/19     4.24G      1.71     0.624     0.195      2.53         6       640: 100% 359/359 [05:06<00:00,  1.17it/s]\n",
      "               Class    Images   Targets         P         R   mAP@0.5        F1: 100% 36/36 [00:11<00:00,  3.26it/s]\n",
      "                 all       572  1.16e+03     0.714     0.817     0.813     0.761\n",
      "\n",
      "     Epoch   gpu_mem      GIoU       obj       cls     total   targets  img_size\n",
      "     15/19     4.23G      1.72     0.646     0.212      2.58         5       608: 100% 359/359 [05:07<00:00,  1.17it/s]\n",
      "               Class    Images   Targets         P         R   mAP@0.5        F1: 100% 36/36 [00:11<00:00,  3.20it/s]\n",
      "                 all       572  1.16e+03     0.719     0.824     0.813     0.768\n",
      "\n",
      "     Epoch   gpu_mem      GIoU       obj       cls     total   targets  img_size\n",
      "     16/19     4.23G      1.68     0.614     0.199       2.5        11       448: 100% 359/359 [05:07<00:00,  1.17it/s]\n",
      "               Class    Images   Targets         P         R   mAP@0.5        F1: 100% 36/36 [00:11<00:00,  3.20it/s]\n",
      "                 all       572  1.16e+03     0.696     0.821     0.811     0.753\n",
      "\n",
      "     Epoch   gpu_mem      GIoU       obj       cls     total   targets  img_size\n",
      "     17/19     4.24G      1.67     0.612     0.184      2.47         4       352: 100% 359/359 [05:10<00:00,  1.16it/s]\n",
      "               Class    Images   Targets         P         R   mAP@0.5        F1: 100% 36/36 [00:11<00:00,  3.17it/s]\n",
      "                 all       572  1.16e+03     0.723     0.822     0.814      0.77\n",
      "\n",
      "     Epoch   gpu_mem      GIoU       obj       cls     total   targets  img_size\n",
      "     18/19     4.24G      1.64      0.58     0.178      2.39         6       480: 100% 359/359 [05:09<00:00,  1.16it/s]\n",
      "               Class    Images   Targets         P         R   mAP@0.5        F1: 100% 36/36 [00:11<00:00,  3.19it/s]\n",
      "                 all       572  1.16e+03     0.724     0.819     0.816     0.768\n",
      "\n",
      "     Epoch   gpu_mem      GIoU       obj       cls     total   targets  img_size\n",
      "     19/19     4.24G      1.65      0.62     0.178      2.45         5       448: 100% 359/359 [05:08<00:00,  1.16it/s]\n",
      "               Class    Images   Targets         P         R   mAP@0.5        F1: 100% 36/36 [00:11<00:00,  3.17it/s]\n",
      "                 all       572  1.16e+03     0.712     0.822     0.817     0.763\n",
      "20 epochs completed in 1.774 hours.\n",
      "\n"
     ]
    }
   ],
   "source": [
    "!python train.py --data data/rbc.data --cfg cfg/yolov3-tiny.cfg --weights weights/yolov3-tiny.pt --epochs 20"
   ]
  },
  {
   "cell_type": "markdown",
   "metadata": {
    "id": "q7rkOWvo0IGI"
   },
   "source": [
    "预测，预测结果存放在output_dir文件夹下"
   ]
  },
  {
   "cell_type": "code",
   "execution_count": null,
   "metadata": {
    "colab": {
     "base_uri": "https://localhost:8080/"
    },
    "executionInfo": {
     "elapsed": 8667,
     "status": "ok",
     "timestamp": 1605960778914,
     "user": {
      "displayName": "呜啦啦啦",
      "photoUrl": "",
      "userId": "11210684122337786716"
     },
     "user_tz": -480
    },
    "id": "Q3VV-SsQruPf",
    "outputId": "a805ba90-29c6-4946-fb2f-03d3e4b34c32"
   },
   "outputs": [
    {
     "name": "stdout",
     "output_type": "stream",
     "text": [
      "Namespace(agnostic_nms=False, augment=False, cfg='cfg/yolov3-tiny.cfg', classes=None, conf_thres=0.3, device='', fourcc='mp4v', half=False, img_size=512, iou_thres=0.6, names='data/rbc.names', output='output_dir', save_txt=False, source='source_dir', view_img=False, weights='weights/best.pt')\n",
      "Using CUDA device0 _CudaDeviceProperties(name='Tesla T4', total_memory=15079MB)\n",
      "\n",
      "Model Summary: 37 layers, 8.67219e+06 parameters, 8.67219e+06 gradients\n",
      "image 1/3 source_dir/20201121182354295.png: 384x512 4 faces, Done. (0.005s)\n",
      "image 2/3 source_dir/AFF9C388EF5E6241855002896E848E01.jpg: 384x512 1 faces, 1 face_masks, Done. (0.005s)\n",
      "image 3/3 source_dir/test.jpg: 384x512 4 faces, Done. (0.005s)\n",
      "Results saved to /content/drive/My Drive/yolov3-archive/output_dir\n",
      "Done. (0.653s)\n"
     ]
    }
   ],
   "source": [
    "!python detect.py  --cfg cfg/yolov3-tiny.cfg --names data/rbc.names --weights weights/best.pt --source source_dir --output output_dir "
   ]
  }
 ],
 "metadata": {
  "accelerator": "GPU",
  "colab": {
   "collapsed_sections": [],
   "name": "yolo.ipynb",
   "provenance": []
  },
  "kernelspec": {
   "display_name": "Python 3",
   "language": "python",
   "name": "python3"
  },
  "language_info": {
   "codemirror_mode": {
    "name": "ipython",
    "version": 3
   },
   "file_extension": ".py",
   "mimetype": "text/x-python",
   "name": "python",
   "nbconvert_exporter": "python",
   "pygments_lexer": "ipython3",
   "version": "3.8.3"
  }
 },
 "nbformat": 4,
 "nbformat_minor": 1
}
